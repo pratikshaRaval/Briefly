{
 "cells": [
  {
   "cell_type": "markdown",
   "metadata": {},
   "source": [
    "# Part 2: Sentiment Analysis"
   ]
  },
  {
   "cell_type": "markdown",
   "metadata": {},
   "source": [
    "Sentiment analysis is the interpretation and classification of emotions (positive, negative and neutral) within text data using text analysis techniques. Sentiment analysis allows businesses to identify customer sentiment toward products, brands or services in online conversations and feedback."
   ]
  },
  {
   "cell_type": "markdown",
   "metadata": {},
   "source": [
    "![](image.png)"
   ]
  },
  {
   "cell_type": "markdown",
   "metadata": {},
   "source": [
    "## Approach : Natural Language Processing (NLTK)"
   ]
  },
  {
   "cell_type": "markdown",
   "metadata": {},
   "source": [
    "We have approached the solution to this problem using NLTK library available in python which is generally using to analyze textual data. We used two of the popular libraries for performing this task:\n",
    "1. VADER (Valence Aware Dictionary and sEntiment Reasoner) - a lexicon and rule-based sentiment analysis tool that is specifically attuned to sentiments expressed in social media. VADER not only tells about the Positivity and Negativity score but also tells us about how positive or negative a sentiment is.\n",
    "\n",
    "\n",
    "2. TextBlob - Library for processing textual data. It provides a simple API for diving into common natural language processing (NLP) tasks such as part-of-speech tagging, noun phrase extraction, sentiment analysis, classification, translation, and more"
   ]
  },
  {
   "cell_type": "markdown",
   "metadata": {},
   "source": [
    "## 2.1: Sentiment analysis using TextBlob"
   ]
  },
  {
   "cell_type": "code",
   "execution_count": 1,
   "metadata": {},
   "outputs": [
    {
     "data": {
      "text/html": [
       "        <script type=\"text/javascript\">\n",
       "        window.PlotlyConfig = {MathJaxConfig: 'local'};\n",
       "        if (window.MathJax) {MathJax.Hub.Config({SVG: {font: \"STIX-Web\"}});}\n",
       "        if (typeof require !== 'undefined') {\n",
       "        require.undef(\"plotly\");\n",
       "        requirejs.config({\n",
       "            paths: {\n",
       "                'plotly': ['https://cdn.plot.ly/plotly-latest.min']\n",
       "            }\n",
       "        });\n",
       "        require(['plotly'], function(Plotly) {\n",
       "            window._Plotly = Plotly;\n",
       "        });\n",
       "        }\n",
       "        </script>\n",
       "        "
      ]
     },
     "metadata": {},
     "output_type": "display_data"
    }
   ],
   "source": [
    "import pandas as pd\n",
    "import numpy as np\n",
    "import os\n",
    "\n",
    "from textblob import TextBlob\n",
    "\n",
    "import warnings \n",
    "warnings.filterwarnings('ignore')\n",
    "\n",
    "import matplotlib as mpl\n",
    "import matplotlib.pyplot as plt\n",
    "import seaborn as sns\n",
    "from plotly.offline import init_notebook_mode, iplot\n",
    "import plotly.figure_factory as ff\n",
    "init_notebook_mode(connected=True)\n",
    "plt.style.use('fivethirtyeight')\n",
    "%matplotlib inline"
   ]
  },
  {
   "cell_type": "markdown",
   "metadata": {},
   "source": [
    "#### Reading the dataset.."
   ]
  },
  {
   "cell_type": "code",
   "execution_count": 2,
   "metadata": {},
   "outputs": [],
   "source": [
    "# Next we import the dataframe containing the comments on New York Times articles published in April 2018\n",
    "comments = pd.read_csv(os.path.join('dataset', 'CommentsApril2018.csv'))\n"
   ]
  },
  {
   "cell_type": "markdown",
   "metadata": {},
   "source": [
    "#### Display the data.."
   ]
  },
  {
   "cell_type": "code",
   "execution_count": 3,
   "metadata": {},
   "outputs": [
    {
     "data": {
      "text/html": [
       "<div>\n",
       "<style scoped>\n",
       "    .dataframe tbody tr th:only-of-type {\n",
       "        vertical-align: middle;\n",
       "    }\n",
       "\n",
       "    .dataframe tbody tr th {\n",
       "        vertical-align: top;\n",
       "    }\n",
       "\n",
       "    .dataframe thead th {\n",
       "        text-align: right;\n",
       "    }\n",
       "</style>\n",
       "<table border=\"1\" class=\"dataframe\">\n",
       "  <thead>\n",
       "    <tr style=\"text-align: right;\">\n",
       "      <th></th>\n",
       "      <th>approveDate</th>\n",
       "      <th>articleID</th>\n",
       "      <th>articleWordCount</th>\n",
       "      <th>commentBody</th>\n",
       "      <th>commentID</th>\n",
       "      <th>commentSequence</th>\n",
       "      <th>commentTitle</th>\n",
       "      <th>commentType</th>\n",
       "      <th>createDate</th>\n",
       "      <th>depth</th>\n",
       "      <th>...</th>\n",
       "      <th>status</th>\n",
       "      <th>timespeople</th>\n",
       "      <th>trusted</th>\n",
       "      <th>typeOfMaterial</th>\n",
       "      <th>updateDate</th>\n",
       "      <th>userDisplayName</th>\n",
       "      <th>userID</th>\n",
       "      <th>userLocation</th>\n",
       "      <th>userTitle</th>\n",
       "      <th>userURL</th>\n",
       "    </tr>\n",
       "  </thead>\n",
       "  <tbody>\n",
       "    <tr>\n",
       "      <th>0</th>\n",
       "      <td>1524594282</td>\n",
       "      <td>5adf6684068401528a2aa69b</td>\n",
       "      <td>781.0</td>\n",
       "      <td>How could the league possibly refuse this offe...</td>\n",
       "      <td>26853969.0</td>\n",
       "      <td>26853969.0</td>\n",
       "      <td>&lt;br/&gt;</td>\n",
       "      <td>comment</td>\n",
       "      <td>1524594011</td>\n",
       "      <td>1.0</td>\n",
       "      <td>...</td>\n",
       "      <td>approved</td>\n",
       "      <td>1</td>\n",
       "      <td>0</td>\n",
       "      <td>News</td>\n",
       "      <td>1524594282</td>\n",
       "      <td>Christopher Rillo</td>\n",
       "      <td>46566740.0</td>\n",
       "      <td>San Francisco</td>\n",
       "      <td>NaN</td>\n",
       "      <td>NaN</td>\n",
       "    </tr>\n",
       "    <tr>\n",
       "      <th>1</th>\n",
       "      <td>1524594252</td>\n",
       "      <td>5adf6684068401528a2aa69b</td>\n",
       "      <td>781.0</td>\n",
       "      <td>So then the execs can be like \"yeah...we will ...</td>\n",
       "      <td>26853699.0</td>\n",
       "      <td>26853699.0</td>\n",
       "      <td>&lt;br/&gt;</td>\n",
       "      <td>comment</td>\n",
       "      <td>1524593146</td>\n",
       "      <td>1.0</td>\n",
       "      <td>...</td>\n",
       "      <td>approved</td>\n",
       "      <td>1</td>\n",
       "      <td>0</td>\n",
       "      <td>News</td>\n",
       "      <td>1524594252</td>\n",
       "      <td>Matt Brand</td>\n",
       "      <td>64324866.0</td>\n",
       "      <td>Williamsburg, Brooklyn</td>\n",
       "      <td>NaN</td>\n",
       "      <td>NaN</td>\n",
       "    </tr>\n",
       "    <tr>\n",
       "      <th>2</th>\n",
       "      <td>1524594250</td>\n",
       "      <td>5adf6684068401528a2aa69b</td>\n",
       "      <td>781.0</td>\n",
       "      <td>I would not want to play chess against these c...</td>\n",
       "      <td>26853677.0</td>\n",
       "      <td>26853677.0</td>\n",
       "      <td>&lt;br/&gt;</td>\n",
       "      <td>comment</td>\n",
       "      <td>1524593032</td>\n",
       "      <td>1.0</td>\n",
       "      <td>...</td>\n",
       "      <td>approved</td>\n",
       "      <td>1</td>\n",
       "      <td>0</td>\n",
       "      <td>News</td>\n",
       "      <td>1524594250</td>\n",
       "      <td>Joseph</td>\n",
       "      <td>78105093.0</td>\n",
       "      <td>Fayetteville, AR</td>\n",
       "      <td>NaN</td>\n",
       "      <td>NaN</td>\n",
       "    </tr>\n",
       "    <tr>\n",
       "      <th>3</th>\n",
       "      <td>1524593431</td>\n",
       "      <td>5adf6684068401528a2aa69b</td>\n",
       "      <td>781.0</td>\n",
       "      <td>Could the cheerleaders join the Actors' Equity...</td>\n",
       "      <td>26853784.0</td>\n",
       "      <td>26853784.0</td>\n",
       "      <td>&lt;br/&gt;</td>\n",
       "      <td>comment</td>\n",
       "      <td>1524593426</td>\n",
       "      <td>1.0</td>\n",
       "      <td>...</td>\n",
       "      <td>approved</td>\n",
       "      <td>0</td>\n",
       "      <td>0</td>\n",
       "      <td>News</td>\n",
       "      <td>1524593431</td>\n",
       "      <td>Stephen</td>\n",
       "      <td>81939618.0</td>\n",
       "      <td>Phoenix, AZ</td>\n",
       "      <td>NaN</td>\n",
       "      <td>NaN</td>\n",
       "    </tr>\n",
       "    <tr>\n",
       "      <th>4</th>\n",
       "      <td>1524595048</td>\n",
       "      <td>5adf653f068401528a2aa697</td>\n",
       "      <td>656.0</td>\n",
       "      <td>Seeking conclusions which support preconceived...</td>\n",
       "      <td>26854236.0</td>\n",
       "      <td>26854236.0</td>\n",
       "      <td>&lt;br/&gt;</td>\n",
       "      <td>comment</td>\n",
       "      <td>1524595043</td>\n",
       "      <td>1.0</td>\n",
       "      <td>...</td>\n",
       "      <td>approved</td>\n",
       "      <td>1</td>\n",
       "      <td>0</td>\n",
       "      <td>News</td>\n",
       "      <td>1524595048</td>\n",
       "      <td>Paul Zorsky</td>\n",
       "      <td>58642997.0</td>\n",
       "      <td>Texas</td>\n",
       "      <td>NaN</td>\n",
       "      <td>NaN</td>\n",
       "    </tr>\n",
       "  </tbody>\n",
       "</table>\n",
       "<p>5 rows × 34 columns</p>\n",
       "</div>"
      ],
      "text/plain": [
       "   approveDate                 articleID  articleWordCount  \\\n",
       "0   1524594282  5adf6684068401528a2aa69b             781.0   \n",
       "1   1524594252  5adf6684068401528a2aa69b             781.0   \n",
       "2   1524594250  5adf6684068401528a2aa69b             781.0   \n",
       "3   1524593431  5adf6684068401528a2aa69b             781.0   \n",
       "4   1524595048  5adf653f068401528a2aa697             656.0   \n",
       "\n",
       "                                         commentBody   commentID  \\\n",
       "0  How could the league possibly refuse this offe...  26853969.0   \n",
       "1  So then the execs can be like \"yeah...we will ...  26853699.0   \n",
       "2  I would not want to play chess against these c...  26853677.0   \n",
       "3  Could the cheerleaders join the Actors' Equity...  26853784.0   \n",
       "4  Seeking conclusions which support preconceived...  26854236.0   \n",
       "\n",
       "   commentSequence commentTitle commentType  createDate  depth  ...    status  \\\n",
       "0       26853969.0        <br/>     comment  1524594011    1.0  ...  approved   \n",
       "1       26853699.0        <br/>     comment  1524593146    1.0  ...  approved   \n",
       "2       26853677.0        <br/>     comment  1524593032    1.0  ...  approved   \n",
       "3       26853784.0        <br/>     comment  1524593426    1.0  ...  approved   \n",
       "4       26854236.0        <br/>     comment  1524595043    1.0  ...  approved   \n",
       "\n",
       "   timespeople trusted  typeOfMaterial  updateDate    userDisplayName  \\\n",
       "0            1       0            News  1524594282  Christopher Rillo   \n",
       "1            1       0            News  1524594252         Matt Brand   \n",
       "2            1       0            News  1524594250             Joseph   \n",
       "3            0       0            News  1524593431            Stephen   \n",
       "4            1       0            News  1524595048        Paul Zorsky   \n",
       "\n",
       "       userID            userLocation  userTitle  userURL  \n",
       "0  46566740.0           San Francisco        NaN      NaN  \n",
       "1  64324866.0  Williamsburg, Brooklyn        NaN      NaN  \n",
       "2  78105093.0        Fayetteville, AR        NaN      NaN  \n",
       "3  81939618.0             Phoenix, AZ        NaN      NaN  \n",
       "4  58642997.0                   Texas        NaN      NaN  \n",
       "\n",
       "[5 rows x 34 columns]"
      ]
     },
     "execution_count": 3,
     "metadata": {},
     "output_type": "execute_result"
    }
   ],
   "source": [
    "comments.head()"
   ]
  },
  {
   "cell_type": "code",
   "execution_count": 4,
   "metadata": {},
   "outputs": [
    {
     "data": {
      "text/plain": [
       "(264924, 34)"
      ]
     },
     "execution_count": 4,
     "metadata": {},
     "output_type": "execute_result"
    }
   ],
   "source": [
    "comments.shape"
   ]
  },
  {
   "cell_type": "markdown",
   "metadata": {},
   "source": [
    "#### Using the 'sentiment' function to calculate polarity and subjectivity.."
   ]
  },
  {
   "cell_type": "code",
   "execution_count": 5,
   "metadata": {},
   "outputs": [],
   "source": [
    "comments['polarity'] = comments.commentBody.map(lambda text: TextBlob(text).sentiment.polarity)\n",
    "comments['subjectivity'] = comments.commentBody.map(lambda text: TextBlob(text).sentiment.subjectivity)"
   ]
  },
  {
   "cell_type": "code",
   "execution_count": 6,
   "metadata": {},
   "outputs": [
    {
     "data": {
      "text/html": [
       "<div>\n",
       "<style scoped>\n",
       "    .dataframe tbody tr th:only-of-type {\n",
       "        vertical-align: middle;\n",
       "    }\n",
       "\n",
       "    .dataframe tbody tr th {\n",
       "        vertical-align: top;\n",
       "    }\n",
       "\n",
       "    .dataframe thead th {\n",
       "        text-align: right;\n",
       "    }\n",
       "</style>\n",
       "<table border=\"1\" class=\"dataframe\">\n",
       "  <thead>\n",
       "    <tr style=\"text-align: right;\">\n",
       "      <th></th>\n",
       "      <th>commentBody</th>\n",
       "      <th>polarity</th>\n",
       "      <th>subjectivity</th>\n",
       "    </tr>\n",
       "  </thead>\n",
       "  <tbody>\n",
       "    <tr>\n",
       "      <th>0</th>\n",
       "      <td>How could the league possibly refuse this offe...</td>\n",
       "      <td>0.000000</td>\n",
       "      <td>1.000000</td>\n",
       "    </tr>\n",
       "    <tr>\n",
       "      <th>1</th>\n",
       "      <td>So then the execs can be like \"yeah...we will ...</td>\n",
       "      <td>-0.155556</td>\n",
       "      <td>0.288889</td>\n",
       "    </tr>\n",
       "    <tr>\n",
       "      <th>2</th>\n",
       "      <td>I would not want to play chess against these c...</td>\n",
       "      <td>0.000000</td>\n",
       "      <td>0.000000</td>\n",
       "    </tr>\n",
       "    <tr>\n",
       "      <th>3</th>\n",
       "      <td>Could the cheerleaders join the Actors' Equity...</td>\n",
       "      <td>0.100000</td>\n",
       "      <td>0.333333</td>\n",
       "    </tr>\n",
       "    <tr>\n",
       "      <th>4</th>\n",
       "      <td>Seeking conclusions which support preconceived...</td>\n",
       "      <td>0.012857</td>\n",
       "      <td>0.514286</td>\n",
       "    </tr>\n",
       "    <tr>\n",
       "      <th>...</th>\n",
       "      <td>...</td>\n",
       "      <td>...</td>\n",
       "      <td>...</td>\n",
       "    </tr>\n",
       "    <tr>\n",
       "      <th>264919</th>\n",
       "      <td>This year was uniquely unoriginal - the four n...</td>\n",
       "      <td>0.335227</td>\n",
       "      <td>0.367424</td>\n",
       "    </tr>\n",
       "    <tr>\n",
       "      <th>264920</th>\n",
       "      <td>Come From Away, last year...</td>\n",
       "      <td>0.000000</td>\n",
       "      <td>0.066667</td>\n",
       "    </tr>\n",
       "    <tr>\n",
       "      <th>264921</th>\n",
       "      <td>I love this quiet little musical. Exquisite pe...</td>\n",
       "      <td>0.260227</td>\n",
       "      <td>0.521212</td>\n",
       "    </tr>\n",
       "    <tr>\n",
       "      <th>264922</th>\n",
       "      <td>We saw it about 10 days ago.  Agree with your ...</td>\n",
       "      <td>0.625000</td>\n",
       "      <td>1.000000</td>\n",
       "    </tr>\n",
       "    <tr>\n",
       "      <th>264923</th>\n",
       "      <td>Spot on! I'm appalled by the Schumer nod!!!!!</td>\n",
       "      <td>-1.000000</td>\n",
       "      <td>1.000000</td>\n",
       "    </tr>\n",
       "  </tbody>\n",
       "</table>\n",
       "<p>264924 rows × 3 columns</p>\n",
       "</div>"
      ],
      "text/plain": [
       "                                              commentBody  polarity  \\\n",
       "0       How could the league possibly refuse this offe...  0.000000   \n",
       "1       So then the execs can be like \"yeah...we will ... -0.155556   \n",
       "2       I would not want to play chess against these c...  0.000000   \n",
       "3       Could the cheerleaders join the Actors' Equity...  0.100000   \n",
       "4       Seeking conclusions which support preconceived...  0.012857   \n",
       "...                                                   ...       ...   \n",
       "264919  This year was uniquely unoriginal - the four n...  0.335227   \n",
       "264920                       Come From Away, last year...  0.000000   \n",
       "264921  I love this quiet little musical. Exquisite pe...  0.260227   \n",
       "264922  We saw it about 10 days ago.  Agree with your ...  0.625000   \n",
       "264923      Spot on! I'm appalled by the Schumer nod!!!!! -1.000000   \n",
       "\n",
       "        subjectivity  \n",
       "0           1.000000  \n",
       "1           0.288889  \n",
       "2           0.000000  \n",
       "3           0.333333  \n",
       "4           0.514286  \n",
       "...              ...  \n",
       "264919      0.367424  \n",
       "264920      0.066667  \n",
       "264921      0.521212  \n",
       "264922      1.000000  \n",
       "264923      1.000000  \n",
       "\n",
       "[264924 rows x 3 columns]"
      ]
     },
     "execution_count": 6,
     "metadata": {},
     "output_type": "execute_result"
    }
   ],
   "source": [
    "comments[['commentBody','polarity', 'subjectivity']]"
   ]
  },
  {
   "cell_type": "markdown",
   "metadata": {},
   "source": [
    "#### Printing 5 random comments with the highest positive score.."
   ]
  },
  {
   "cell_type": "code",
   "execution_count": 14,
   "metadata": {},
   "outputs": [
    {
     "name": "stdout",
     "output_type": "stream",
     "text": [
      "5 random comments with highest positive sentiment polarity: \n",
      "\n",
      "I agree.  If snarky comments on appearance and spreading unsubstantiated rumors are the best we can do at the highest levels of discourse, what hope is there?\n",
      "\n",
      "Bravo! Perfectly said.\n",
      "\n",
      "Your's is the perfect answer.\n",
      "\n",
      "Rupert Murdoch is probably the greatest threat to democracy who has ever lived. \n",
      "\n",
      "What a wonderful pilot and a wonderful silver lining in the face of tragedy.<br/><br/>Thank you, Capt. Tammie Jo Shults!\n",
      "\n"
     ]
    }
   ],
   "source": [
    "print(\"5 random comments with highest positive sentiment polarity: \\n\")\n",
    "cL = comments.loc[comments.polarity==1, ['commentBody']].sample(5).values\n",
    "for c in cL:\n",
    "    print(c[0])\n",
    "    print()"
   ]
  },
  {
   "cell_type": "markdown",
   "metadata": {},
   "source": [
    "#### Printing 5 random comments with the highest negative score.."
   ]
  },
  {
   "cell_type": "code",
   "execution_count": 9,
   "metadata": {},
   "outputs": [
    {
     "name": "stdout",
     "output_type": "stream",
     "text": [
      "5 random comments with most negative sentiment polarity: \n",
      "\n",
      "Since all republican politicians seem to care about are tax cuts and getting re-elected, there's zero hope for stopping the insane Trump administration. <br/><br/>If these republicans cared at all about the country, there would be some reason for hope. \n",
      "\n",
      "This horrific chapter in Canada's treatment of indigenous people was designed and funded by Canada's federal government.\n",
      "\n",
      "Yup.<br/>62 million awful Americans voted for him.\n",
      "\n",
      "These guys perpetuate the worst stereotypes of politicians who can't see the forest through the thicket of trees.\n",
      "\n",
      "Bravo!  No woman should depend on any man for anything. It is dangerous!  <br/><br/>I’m for you Jessica.  I say you go woman!  Crush the competition and amaze your enemies!  And THEN REMIND THEM THAT YOU DID!  \n",
      "\n"
     ]
    }
   ],
   "source": [
    "print(\"5 random comments with most negative sentiment polarity: \\n\")\n",
    "cL = comments.loc[comments.polarity==-1, ['commentBody']].sample(5).values\n",
    "for c in cL:\n",
    "    print(c[0])\n",
    "    print()"
   ]
  },
  {
   "cell_type": "markdown",
   "metadata": {},
   "source": [
    "#### Printing 5 random comments with the neutral score.."
   ]
  },
  {
   "cell_type": "code",
   "execution_count": 10,
   "metadata": {},
   "outputs": [
    {
     "name": "stdout",
     "output_type": "stream",
     "text": [
      "5 random comments with most neutral (zero) sentiment polarity:\n",
      " \n",
      "Failing 45 doesn't trust the intelligence community; he only trusts lapdogs that agree to serve the Kremlin.\n",
      "\n",
      "Most of us do not oppose the existence of the State of Israel. What we oppose is Israel's illegal occupation of Palestinian and Syrian land and Israel's violations of Palestinian human rights. \n",
      "\n",
      "I will be amazed if Trump &amp; Co. don't bungle it.\n",
      "\n",
      "Two at once?  It figures...\n",
      "\n",
      "You can vote for candidates who share your values.  If you care about human rights you probably don't want to vote for a Republican candidate as that party has now adopted an essentially White nationalist and anti-human rights platform.  \n",
      "\n"
     ]
    }
   ],
   "source": [
    "print(\"5 random comments with most neutral (zero) sentiment polarity:\\n \")\n",
    "cL = comments.loc[comments.polarity==0, ['commentBody']].sample(5).values\n",
    "for c in cL:\n",
    "    print(c[0])\n",
    "    print()"
   ]
  },
  {
   "cell_type": "markdown",
   "metadata": {},
   "source": [
    "#### Distribution plot of sentiment polarity of comments"
   ]
  },
  {
   "cell_type": "code",
   "execution_count": 12,
   "metadata": {},
   "outputs": [
    {
     "data": {
      "text/plain": [
       "Text(0.5, 1.0, 'Distribution of sentiment polarity of comments')"
      ]
     },
     "execution_count": 12,
     "metadata": {},
     "output_type": "execute_result"
    },
    {
     "data": {
      "image/png": "[encoded data removed]",
      "text/plain": [
       "<Figure size 1296x576 with 1 Axes>"
      ]
     },
     "metadata": {
      "needs_background": "light"
     },
     "output_type": "display_data"
    }
   ],
   "source": [
    "mpl.rcParams['figure.figsize'] = (18, 8)\n",
    "mpl.rcParams['axes.titlesize'] = 'xx-large'\n",
    "mpl.rcParams['axes.labelsize'] = 'x-large'\n",
    "sns.distplot(comments.polarity);\n",
    "plt.title(\"Distribution of sentiment polarity of comments\")"
   ]
  },
  {
   "cell_type": "markdown",
   "metadata": {},
   "source": [
    "#### Inference: \n",
    "Most of the comments usually have a sentiment polarity score close to zero, i.e they are neutral."
   ]
  },
  {
   "cell_type": "markdown",
   "metadata": {},
   "source": [
    "## 2.2: Sentiment Analysis using VADER\n"
   ]
  },
  {
   "cell_type": "code",
   "execution_count": 4,
   "metadata": {},
   "outputs": [
    {
     "data": {
      "text/html": [
       "        <script type=\"text/javascript\">\n",
       "        window.PlotlyConfig = {MathJaxConfig: 'local'};\n",
       "        if (window.MathJax) {MathJax.Hub.Config({SVG: {font: \"STIX-Web\"}});}\n",
       "        if (typeof require !== 'undefined') {\n",
       "        require.undef(\"plotly\");\n",
       "        requirejs.config({\n",
       "            paths: {\n",
       "                'plotly': ['https://cdn.plot.ly/plotly-latest.min']\n",
       "            }\n",
       "        });\n",
       "        require(['plotly'], function(Plotly) {\n",
       "            window._Plotly = Plotly;\n",
       "        });\n",
       "        }\n",
       "        </script>\n",
       "        "
      ]
     },
     "metadata": {},
     "output_type": "display_data"
    }
   ],
   "source": [
    "#Required Imports\n",
    "from vaderSentiment.vaderSentiment import SentimentIntensityAnalyzer\n",
    "import seaborn as sns\n",
    "from plotly.offline import init_notebook_mode, iplot\n",
    "init_notebook_mode(connected=True)"
   ]
  },
  {
   "cell_type": "markdown",
   "metadata": {},
   "source": [
    "#### Read dataset"
   ]
  },
  {
   "cell_type": "code",
   "execution_count": 2,
   "metadata": {},
   "outputs": [
    {
     "name": "stderr",
     "output_type": "stream",
     "text": [
      "/Users/kritikasrivastava/opt/anaconda3/lib/python3.7/site-packages/IPython/core/interactiveshell.py:3058: DtypeWarning:\n",
      "\n",
      "Columns (32) have mixed types. Specify dtype option on import or set low_memory=False.\n",
      "\n"
     ]
    }
   ],
   "source": [
    "c_april = pd.read_csv('dataset/CommentsApril2018.csv')\n"
   ]
  },
  {
   "cell_type": "markdown",
   "metadata": {},
   "source": [
    "#### Display data.."
   ]
  },
  {
   "cell_type": "code",
   "execution_count": 3,
   "metadata": {},
   "outputs": [
    {
     "data": {
      "text/html": [
       "<div>\n",
       "<style scoped>\n",
       "    .dataframe tbody tr th:only-of-type {\n",
       "        vertical-align: middle;\n",
       "    }\n",
       "\n",
       "    .dataframe tbody tr th {\n",
       "        vertical-align: top;\n",
       "    }\n",
       "\n",
       "    .dataframe thead th {\n",
       "        text-align: right;\n",
       "    }\n",
       "</style>\n",
       "<table border=\"1\" class=\"dataframe\">\n",
       "  <thead>\n",
       "    <tr style=\"text-align: right;\">\n",
       "      <th></th>\n",
       "      <th>approveDate</th>\n",
       "      <th>articleID</th>\n",
       "      <th>articleWordCount</th>\n",
       "      <th>commentBody</th>\n",
       "      <th>commentID</th>\n",
       "      <th>commentSequence</th>\n",
       "      <th>commentTitle</th>\n",
       "      <th>commentType</th>\n",
       "      <th>createDate</th>\n",
       "      <th>depth</th>\n",
       "      <th>...</th>\n",
       "      <th>status</th>\n",
       "      <th>timespeople</th>\n",
       "      <th>trusted</th>\n",
       "      <th>typeOfMaterial</th>\n",
       "      <th>updateDate</th>\n",
       "      <th>userDisplayName</th>\n",
       "      <th>userID</th>\n",
       "      <th>userLocation</th>\n",
       "      <th>userTitle</th>\n",
       "      <th>userURL</th>\n",
       "    </tr>\n",
       "  </thead>\n",
       "  <tbody>\n",
       "    <tr>\n",
       "      <th>0</th>\n",
       "      <td>1524594282</td>\n",
       "      <td>5adf6684068401528a2aa69b</td>\n",
       "      <td>781.0</td>\n",
       "      <td>How could the league possibly refuse this offe...</td>\n",
       "      <td>26853969.0</td>\n",
       "      <td>26853969.0</td>\n",
       "      <td>&lt;br/&gt;</td>\n",
       "      <td>comment</td>\n",
       "      <td>1524594011</td>\n",
       "      <td>1.0</td>\n",
       "      <td>...</td>\n",
       "      <td>approved</td>\n",
       "      <td>1</td>\n",
       "      <td>0</td>\n",
       "      <td>News</td>\n",
       "      <td>1524594282</td>\n",
       "      <td>Christopher Rillo</td>\n",
       "      <td>46566740.0</td>\n",
       "      <td>San Francisco</td>\n",
       "      <td>NaN</td>\n",
       "      <td>NaN</td>\n",
       "    </tr>\n",
       "    <tr>\n",
       "      <th>1</th>\n",
       "      <td>1524594252</td>\n",
       "      <td>5adf6684068401528a2aa69b</td>\n",
       "      <td>781.0</td>\n",
       "      <td>So then the execs can be like \"yeah...we will ...</td>\n",
       "      <td>26853699.0</td>\n",
       "      <td>26853699.0</td>\n",
       "      <td>&lt;br/&gt;</td>\n",
       "      <td>comment</td>\n",
       "      <td>1524593146</td>\n",
       "      <td>1.0</td>\n",
       "      <td>...</td>\n",
       "      <td>approved</td>\n",
       "      <td>1</td>\n",
       "      <td>0</td>\n",
       "      <td>News</td>\n",
       "      <td>1524594252</td>\n",
       "      <td>Matt Brand</td>\n",
       "      <td>64324866.0</td>\n",
       "      <td>Williamsburg, Brooklyn</td>\n",
       "      <td>NaN</td>\n",
       "      <td>NaN</td>\n",
       "    </tr>\n",
       "    <tr>\n",
       "      <th>2</th>\n",
       "      <td>1524594250</td>\n",
       "      <td>5adf6684068401528a2aa69b</td>\n",
       "      <td>781.0</td>\n",
       "      <td>I would not want to play chess against these c...</td>\n",
       "      <td>26853677.0</td>\n",
       "      <td>26853677.0</td>\n",
       "      <td>&lt;br/&gt;</td>\n",
       "      <td>comment</td>\n",
       "      <td>1524593032</td>\n",
       "      <td>1.0</td>\n",
       "      <td>...</td>\n",
       "      <td>approved</td>\n",
       "      <td>1</td>\n",
       "      <td>0</td>\n",
       "      <td>News</td>\n",
       "      <td>1524594250</td>\n",
       "      <td>Joseph</td>\n",
       "      <td>78105093.0</td>\n",
       "      <td>Fayetteville, AR</td>\n",
       "      <td>NaN</td>\n",
       "      <td>NaN</td>\n",
       "    </tr>\n",
       "    <tr>\n",
       "      <th>3</th>\n",
       "      <td>1524593431</td>\n",
       "      <td>5adf6684068401528a2aa69b</td>\n",
       "      <td>781.0</td>\n",
       "      <td>Could the cheerleaders join the Actors' Equity...</td>\n",
       "      <td>26853784.0</td>\n",
       "      <td>26853784.0</td>\n",
       "      <td>&lt;br/&gt;</td>\n",
       "      <td>comment</td>\n",
       "      <td>1524593426</td>\n",
       "      <td>1.0</td>\n",
       "      <td>...</td>\n",
       "      <td>approved</td>\n",
       "      <td>0</td>\n",
       "      <td>0</td>\n",
       "      <td>News</td>\n",
       "      <td>1524593431</td>\n",
       "      <td>Stephen</td>\n",
       "      <td>81939618.0</td>\n",
       "      <td>Phoenix, AZ</td>\n",
       "      <td>NaN</td>\n",
       "      <td>NaN</td>\n",
       "    </tr>\n",
       "    <tr>\n",
       "      <th>4</th>\n",
       "      <td>1524595048</td>\n",
       "      <td>5adf653f068401528a2aa697</td>\n",
       "      <td>656.0</td>\n",
       "      <td>Seeking conclusions which support preconceived...</td>\n",
       "      <td>26854236.0</td>\n",
       "      <td>26854236.0</td>\n",
       "      <td>&lt;br/&gt;</td>\n",
       "      <td>comment</td>\n",
       "      <td>1524595043</td>\n",
       "      <td>1.0</td>\n",
       "      <td>...</td>\n",
       "      <td>approved</td>\n",
       "      <td>1</td>\n",
       "      <td>0</td>\n",
       "      <td>News</td>\n",
       "      <td>1524595048</td>\n",
       "      <td>Paul Zorsky</td>\n",
       "      <td>58642997.0</td>\n",
       "      <td>Texas</td>\n",
       "      <td>NaN</td>\n",
       "      <td>NaN</td>\n",
       "    </tr>\n",
       "  </tbody>\n",
       "</table>\n",
       "<p>5 rows × 34 columns</p>\n",
       "</div>"
      ],
      "text/plain": [
       "   approveDate                 articleID  articleWordCount  \\\n",
       "0   1524594282  5adf6684068401528a2aa69b             781.0   \n",
       "1   1524594252  5adf6684068401528a2aa69b             781.0   \n",
       "2   1524594250  5adf6684068401528a2aa69b             781.0   \n",
       "3   1524593431  5adf6684068401528a2aa69b             781.0   \n",
       "4   1524595048  5adf653f068401528a2aa697             656.0   \n",
       "\n",
       "                                         commentBody   commentID  \\\n",
       "0  How could the league possibly refuse this offe...  26853969.0   \n",
       "1  So then the execs can be like \"yeah...we will ...  26853699.0   \n",
       "2  I would not want to play chess against these c...  26853677.0   \n",
       "3  Could the cheerleaders join the Actors' Equity...  26853784.0   \n",
       "4  Seeking conclusions which support preconceived...  26854236.0   \n",
       "\n",
       "   commentSequence commentTitle commentType  createDate  depth  ...    status  \\\n",
       "0       26853969.0        <br/>     comment  1524594011    1.0  ...  approved   \n",
       "1       26853699.0        <br/>     comment  1524593146    1.0  ...  approved   \n",
       "2       26853677.0        <br/>     comment  1524593032    1.0  ...  approved   \n",
       "3       26853784.0        <br/>     comment  1524593426    1.0  ...  approved   \n",
       "4       26854236.0        <br/>     comment  1524595043    1.0  ...  approved   \n",
       "\n",
       "   timespeople trusted  typeOfMaterial  updateDate    userDisplayName  \\\n",
       "0            1       0            News  1524594282  Christopher Rillo   \n",
       "1            1       0            News  1524594252         Matt Brand   \n",
       "2            1       0            News  1524594250             Joseph   \n",
       "3            0       0            News  1524593431            Stephen   \n",
       "4            1       0            News  1524595048        Paul Zorsky   \n",
       "\n",
       "       userID            userLocation  userTitle  userURL  \n",
       "0  46566740.0           San Francisco        NaN      NaN  \n",
       "1  64324866.0  Williamsburg, Brooklyn        NaN      NaN  \n",
       "2  78105093.0        Fayetteville, AR        NaN      NaN  \n",
       "3  81939618.0             Phoenix, AZ        NaN      NaN  \n",
       "4  58642997.0                   Texas        NaN      NaN  \n",
       "\n",
       "[5 rows x 34 columns]"
      ]
     },
     "execution_count": 3,
     "metadata": {},
     "output_type": "execute_result"
    }
   ],
   "source": [
    "c_april.head()"
   ]
  },
  {
   "cell_type": "code",
   "execution_count": 4,
   "metadata": {},
   "outputs": [],
   "source": [
    "analyser = SentimentIntensityAnalyzer()"
   ]
  },
  {
   "cell_type": "markdown",
   "metadata": {},
   "source": [
    "#### Using sentimentIntensityAnalyzer to calculate the scores"
   ]
  },
  {
   "cell_type": "code",
   "execution_count": 5,
   "metadata": {},
   "outputs": [],
   "source": [
    "def sentiment_analyzer_scores(sentence):\n",
    "    score = analyser.polarity_scores(sentence)\n",
    "    print(\"{:-<40} {}\".format(sentence, str(score)))\n",
    "#commentBody_df = c_april.commentBody.values"
   ]
  },
  {
   "cell_type": "code",
   "execution_count": 7,
   "metadata": {},
   "outputs": [],
   "source": [
    "sentiment = c_april['commentBody'].apply(lambda x: analyser.polarity_scores(x))\n",
    "c_april_pd = pd.concat([c_april,sentiment.apply(pd.Series)],1)"
   ]
  },
  {
   "cell_type": "markdown",
   "metadata": {},
   "source": [
    "#### Saving dataframe to CSV for future use"
   ]
  },
  {
   "cell_type": "code",
   "execution_count": 8,
   "metadata": {},
   "outputs": [],
   "source": [
    "c_april_pd.to_csv(\"april18_sentiments.csv\")"
   ]
  },
  {
   "cell_type": "code",
   "execution_count": 48,
   "metadata": {},
   "outputs": [
    {
     "name": "stderr",
     "output_type": "stream",
     "text": [
      "/Users/kritikasrivastava/opt/anaconda3/lib/python3.7/site-packages/IPython/core/interactiveshell.py:3058: DtypeWarning:\n",
      "\n",
      "Columns (33) have mixed types. Specify dtype option on import or set low_memory=False.\n",
      "\n"
     ]
    }
   ],
   "source": [
    "c_april_pd = pd.read_csv('april18_sentiments.csv')\n"
   ]
  },
  {
   "cell_type": "code",
   "execution_count": 49,
   "metadata": {},
   "outputs": [
    {
     "data": {
      "text/html": [
       "<div>\n",
       "<style scoped>\n",
       "    .dataframe tbody tr th:only-of-type {\n",
       "        vertical-align: middle;\n",
       "    }\n",
       "\n",
       "    .dataframe tbody tr th {\n",
       "        vertical-align: top;\n",
       "    }\n",
       "\n",
       "    .dataframe thead th {\n",
       "        text-align: right;\n",
       "    }\n",
       "</style>\n",
       "<table border=\"1\" class=\"dataframe\">\n",
       "  <thead>\n",
       "    <tr style=\"text-align: right;\">\n",
       "      <th></th>\n",
       "      <th>Unnamed: 0</th>\n",
       "      <th>approveDate</th>\n",
       "      <th>articleID</th>\n",
       "      <th>articleWordCount</th>\n",
       "      <th>commentBody</th>\n",
       "      <th>commentID</th>\n",
       "      <th>commentSequence</th>\n",
       "      <th>commentTitle</th>\n",
       "      <th>commentType</th>\n",
       "      <th>createDate</th>\n",
       "      <th>...</th>\n",
       "      <th>updateDate</th>\n",
       "      <th>userDisplayName</th>\n",
       "      <th>userID</th>\n",
       "      <th>userLocation</th>\n",
       "      <th>userTitle</th>\n",
       "      <th>userURL</th>\n",
       "      <th>neg</th>\n",
       "      <th>neu</th>\n",
       "      <th>pos</th>\n",
       "      <th>compound</th>\n",
       "    </tr>\n",
       "  </thead>\n",
       "  <tbody>\n",
       "    <tr>\n",
       "      <th>0</th>\n",
       "      <td>0</td>\n",
       "      <td>1524594282</td>\n",
       "      <td>5adf6684068401528a2aa69b</td>\n",
       "      <td>781.0</td>\n",
       "      <td>How could the league possibly refuse this offe...</td>\n",
       "      <td>26853969.0</td>\n",
       "      <td>26853969.0</td>\n",
       "      <td>&lt;br/&gt;</td>\n",
       "      <td>comment</td>\n",
       "      <td>1524594011</td>\n",
       "      <td>...</td>\n",
       "      <td>1524594282</td>\n",
       "      <td>Christopher Rillo</td>\n",
       "      <td>46566740.0</td>\n",
       "      <td>San Francisco</td>\n",
       "      <td>NaN</td>\n",
       "      <td>NaN</td>\n",
       "      <td>0.239</td>\n",
       "      <td>0.761</td>\n",
       "      <td>0.000</td>\n",
       "      <td>-0.2960</td>\n",
       "    </tr>\n",
       "    <tr>\n",
       "      <th>1</th>\n",
       "      <td>1</td>\n",
       "      <td>1524594252</td>\n",
       "      <td>5adf6684068401528a2aa69b</td>\n",
       "      <td>781.0</td>\n",
       "      <td>So then the execs can be like \"yeah...we will ...</td>\n",
       "      <td>26853699.0</td>\n",
       "      <td>26853699.0</td>\n",
       "      <td>&lt;br/&gt;</td>\n",
       "      <td>comment</td>\n",
       "      <td>1524593146</td>\n",
       "      <td>...</td>\n",
       "      <td>1524594252</td>\n",
       "      <td>Matt Brand</td>\n",
       "      <td>64324866.0</td>\n",
       "      <td>Williamsburg, Brooklyn</td>\n",
       "      <td>NaN</td>\n",
       "      <td>NaN</td>\n",
       "      <td>0.000</td>\n",
       "      <td>0.889</td>\n",
       "      <td>0.111</td>\n",
       "      <td>0.3612</td>\n",
       "    </tr>\n",
       "    <tr>\n",
       "      <th>2</th>\n",
       "      <td>2</td>\n",
       "      <td>1524594250</td>\n",
       "      <td>5adf6684068401528a2aa69b</td>\n",
       "      <td>781.0</td>\n",
       "      <td>I would not want to play chess against these c...</td>\n",
       "      <td>26853677.0</td>\n",
       "      <td>26853677.0</td>\n",
       "      <td>&lt;br/&gt;</td>\n",
       "      <td>comment</td>\n",
       "      <td>1524593032</td>\n",
       "      <td>...</td>\n",
       "      <td>1524594250</td>\n",
       "      <td>Joseph</td>\n",
       "      <td>78105093.0</td>\n",
       "      <td>Fayetteville, AR</td>\n",
       "      <td>NaN</td>\n",
       "      <td>NaN</td>\n",
       "      <td>0.241</td>\n",
       "      <td>0.610</td>\n",
       "      <td>0.149</td>\n",
       "      <td>-0.0900</td>\n",
       "    </tr>\n",
       "    <tr>\n",
       "      <th>3</th>\n",
       "      <td>3</td>\n",
       "      <td>1524593431</td>\n",
       "      <td>5adf6684068401528a2aa69b</td>\n",
       "      <td>781.0</td>\n",
       "      <td>Could the cheerleaders join the Actors' Equity...</td>\n",
       "      <td>26853784.0</td>\n",
       "      <td>26853784.0</td>\n",
       "      <td>&lt;br/&gt;</td>\n",
       "      <td>comment</td>\n",
       "      <td>1524593426</td>\n",
       "      <td>...</td>\n",
       "      <td>1524593431</td>\n",
       "      <td>Stephen</td>\n",
       "      <td>81939618.0</td>\n",
       "      <td>Phoenix, AZ</td>\n",
       "      <td>NaN</td>\n",
       "      <td>NaN</td>\n",
       "      <td>0.034</td>\n",
       "      <td>0.806</td>\n",
       "      <td>0.160</td>\n",
       "      <td>0.6326</td>\n",
       "    </tr>\n",
       "    <tr>\n",
       "      <th>4</th>\n",
       "      <td>4</td>\n",
       "      <td>1524595048</td>\n",
       "      <td>5adf653f068401528a2aa697</td>\n",
       "      <td>656.0</td>\n",
       "      <td>Seeking conclusions which support preconceived...</td>\n",
       "      <td>26854236.0</td>\n",
       "      <td>26854236.0</td>\n",
       "      <td>&lt;br/&gt;</td>\n",
       "      <td>comment</td>\n",
       "      <td>1524595043</td>\n",
       "      <td>...</td>\n",
       "      <td>1524595048</td>\n",
       "      <td>Paul Zorsky</td>\n",
       "      <td>58642997.0</td>\n",
       "      <td>Texas</td>\n",
       "      <td>NaN</td>\n",
       "      <td>NaN</td>\n",
       "      <td>0.068</td>\n",
       "      <td>0.835</td>\n",
       "      <td>0.097</td>\n",
       "      <td>0.4234</td>\n",
       "    </tr>\n",
       "  </tbody>\n",
       "</table>\n",
       "<p>5 rows × 39 columns</p>\n",
       "</div>"
      ],
      "text/plain": [
       "   Unnamed: 0  approveDate                 articleID  articleWordCount  \\\n",
       "0           0   1524594282  5adf6684068401528a2aa69b             781.0   \n",
       "1           1   1524594252  5adf6684068401528a2aa69b             781.0   \n",
       "2           2   1524594250  5adf6684068401528a2aa69b             781.0   \n",
       "3           3   1524593431  5adf6684068401528a2aa69b             781.0   \n",
       "4           4   1524595048  5adf653f068401528a2aa697             656.0   \n",
       "\n",
       "                                         commentBody   commentID  \\\n",
       "0  How could the league possibly refuse this offe...  26853969.0   \n",
       "1  So then the execs can be like \"yeah...we will ...  26853699.0   \n",
       "2  I would not want to play chess against these c...  26853677.0   \n",
       "3  Could the cheerleaders join the Actors' Equity...  26853784.0   \n",
       "4  Seeking conclusions which support preconceived...  26854236.0   \n",
       "\n",
       "   commentSequence commentTitle commentType  createDate  ...  updateDate  \\\n",
       "0       26853969.0        <br/>     comment  1524594011  ...  1524594282   \n",
       "1       26853699.0        <br/>     comment  1524593146  ...  1524594252   \n",
       "2       26853677.0        <br/>     comment  1524593032  ...  1524594250   \n",
       "3       26853784.0        <br/>     comment  1524593426  ...  1524593431   \n",
       "4       26854236.0        <br/>     comment  1524595043  ...  1524595048   \n",
       "\n",
       "     userDisplayName      userID            userLocation  userTitle userURL  \\\n",
       "0  Christopher Rillo  46566740.0           San Francisco        NaN     NaN   \n",
       "1         Matt Brand  64324866.0  Williamsburg, Brooklyn        NaN     NaN   \n",
       "2             Joseph  78105093.0        Fayetteville, AR        NaN     NaN   \n",
       "3            Stephen  81939618.0             Phoenix, AZ        NaN     NaN   \n",
       "4        Paul Zorsky  58642997.0                   Texas        NaN     NaN   \n",
       "\n",
       "     neg    neu    pos  compound  \n",
       "0  0.239  0.761  0.000   -0.2960  \n",
       "1  0.000  0.889  0.111    0.3612  \n",
       "2  0.241  0.610  0.149   -0.0900  \n",
       "3  0.034  0.806  0.160    0.6326  \n",
       "4  0.068  0.835  0.097    0.4234  \n",
       "\n",
       "[5 rows x 39 columns]"
      ]
     },
     "execution_count": 49,
     "metadata": {},
     "output_type": "execute_result"
    }
   ],
   "source": [
    "c_april_pd.head()"
   ]
  },
  {
   "cell_type": "markdown",
   "metadata": {},
   "source": [
    "#### Creating a new column which categorizes sentiments.."
   ]
  },
  {
   "cell_type": "code",
   "execution_count": 13,
   "metadata": {},
   "outputs": [],
   "source": [
    "c_april_pd[\"Sentiment\"] = np.NaN"
   ]
  },
  {
   "cell_type": "markdown",
   "metadata": {},
   "source": [
    "#### Classify column based on compound score..\n"
   ]
  },
  {
   "cell_type": "code",
   "execution_count": 14,
   "metadata": {},
   "outputs": [],
   "source": [
    "c_april_pd[\"Sentiment\"] = c_april_pd[\"compound\"].apply(lambda x: 1 if x>=0.05 else (-1 if x< -0.05 else 0))"
   ]
  },
  {
   "cell_type": "code",
   "execution_count": 61,
   "metadata": {},
   "outputs": [
    {
     "data": {
      "text/html": [
       "<div>\n",
       "<style scoped>\n",
       "    .dataframe tbody tr th:only-of-type {\n",
       "        vertical-align: middle;\n",
       "    }\n",
       "\n",
       "    .dataframe tbody tr th {\n",
       "        vertical-align: top;\n",
       "    }\n",
       "\n",
       "    .dataframe thead th {\n",
       "        text-align: right;\n",
       "    }\n",
       "</style>\n",
       "<table border=\"1\" class=\"dataframe\">\n",
       "  <thead>\n",
       "    <tr style=\"text-align: right;\">\n",
       "      <th></th>\n",
       "      <th>Unnamed: 0</th>\n",
       "      <th>approveDate</th>\n",
       "      <th>articleID</th>\n",
       "      <th>articleWordCount</th>\n",
       "      <th>commentBody</th>\n",
       "      <th>commentID</th>\n",
       "      <th>commentSequence</th>\n",
       "      <th>commentTitle</th>\n",
       "      <th>commentType</th>\n",
       "      <th>createDate</th>\n",
       "      <th>...</th>\n",
       "      <th>updateDate</th>\n",
       "      <th>userDisplayName</th>\n",
       "      <th>userID</th>\n",
       "      <th>userLocation</th>\n",
       "      <th>userTitle</th>\n",
       "      <th>userURL</th>\n",
       "      <th>neg</th>\n",
       "      <th>neu</th>\n",
       "      <th>pos</th>\n",
       "      <th>compound</th>\n",
       "    </tr>\n",
       "  </thead>\n",
       "  <tbody>\n",
       "    <tr>\n",
       "      <th>0</th>\n",
       "      <td>0</td>\n",
       "      <td>1524594282</td>\n",
       "      <td>5adf6684068401528a2aa69b</td>\n",
       "      <td>781.0</td>\n",
       "      <td>How could the league possibly refuse this offe...</td>\n",
       "      <td>26853969.0</td>\n",
       "      <td>26853969.0</td>\n",
       "      <td>&lt;br/&gt;</td>\n",
       "      <td>comment</td>\n",
       "      <td>1524594011</td>\n",
       "      <td>...</td>\n",
       "      <td>1524594282</td>\n",
       "      <td>Christopher Rillo</td>\n",
       "      <td>46566740.0</td>\n",
       "      <td>San Francisco</td>\n",
       "      <td>NaN</td>\n",
       "      <td>NaN</td>\n",
       "      <td>0.239</td>\n",
       "      <td>0.761</td>\n",
       "      <td>0.000</td>\n",
       "      <td>-0.2960</td>\n",
       "    </tr>\n",
       "    <tr>\n",
       "      <th>1</th>\n",
       "      <td>1</td>\n",
       "      <td>1524594252</td>\n",
       "      <td>5adf6684068401528a2aa69b</td>\n",
       "      <td>781.0</td>\n",
       "      <td>So then the execs can be like \"yeah...we will ...</td>\n",
       "      <td>26853699.0</td>\n",
       "      <td>26853699.0</td>\n",
       "      <td>&lt;br/&gt;</td>\n",
       "      <td>comment</td>\n",
       "      <td>1524593146</td>\n",
       "      <td>...</td>\n",
       "      <td>1524594252</td>\n",
       "      <td>Matt Brand</td>\n",
       "      <td>64324866.0</td>\n",
       "      <td>Williamsburg, Brooklyn</td>\n",
       "      <td>NaN</td>\n",
       "      <td>NaN</td>\n",
       "      <td>0.000</td>\n",
       "      <td>0.889</td>\n",
       "      <td>0.111</td>\n",
       "      <td>0.3612</td>\n",
       "    </tr>\n",
       "    <tr>\n",
       "      <th>2</th>\n",
       "      <td>2</td>\n",
       "      <td>1524594250</td>\n",
       "      <td>5adf6684068401528a2aa69b</td>\n",
       "      <td>781.0</td>\n",
       "      <td>I would not want to play chess against these c...</td>\n",
       "      <td>26853677.0</td>\n",
       "      <td>26853677.0</td>\n",
       "      <td>&lt;br/&gt;</td>\n",
       "      <td>comment</td>\n",
       "      <td>1524593032</td>\n",
       "      <td>...</td>\n",
       "      <td>1524594250</td>\n",
       "      <td>Joseph</td>\n",
       "      <td>78105093.0</td>\n",
       "      <td>Fayetteville, AR</td>\n",
       "      <td>NaN</td>\n",
       "      <td>NaN</td>\n",
       "      <td>0.241</td>\n",
       "      <td>0.610</td>\n",
       "      <td>0.149</td>\n",
       "      <td>-0.0900</td>\n",
       "    </tr>\n",
       "    <tr>\n",
       "      <th>3</th>\n",
       "      <td>3</td>\n",
       "      <td>1524593431</td>\n",
       "      <td>5adf6684068401528a2aa69b</td>\n",
       "      <td>781.0</td>\n",
       "      <td>Could the cheerleaders join the Actors' Equity...</td>\n",
       "      <td>26853784.0</td>\n",
       "      <td>26853784.0</td>\n",
       "      <td>&lt;br/&gt;</td>\n",
       "      <td>comment</td>\n",
       "      <td>1524593426</td>\n",
       "      <td>...</td>\n",
       "      <td>1524593431</td>\n",
       "      <td>Stephen</td>\n",
       "      <td>81939618.0</td>\n",
       "      <td>Phoenix, AZ</td>\n",
       "      <td>NaN</td>\n",
       "      <td>NaN</td>\n",
       "      <td>0.034</td>\n",
       "      <td>0.806</td>\n",
       "      <td>0.160</td>\n",
       "      <td>0.6326</td>\n",
       "    </tr>\n",
       "    <tr>\n",
       "      <th>4</th>\n",
       "      <td>4</td>\n",
       "      <td>1524595048</td>\n",
       "      <td>5adf653f068401528a2aa697</td>\n",
       "      <td>656.0</td>\n",
       "      <td>Seeking conclusions which support preconceived...</td>\n",
       "      <td>26854236.0</td>\n",
       "      <td>26854236.0</td>\n",
       "      <td>&lt;br/&gt;</td>\n",
       "      <td>comment</td>\n",
       "      <td>1524595043</td>\n",
       "      <td>...</td>\n",
       "      <td>1524595048</td>\n",
       "      <td>Paul Zorsky</td>\n",
       "      <td>58642997.0</td>\n",
       "      <td>Texas</td>\n",
       "      <td>NaN</td>\n",
       "      <td>NaN</td>\n",
       "      <td>0.068</td>\n",
       "      <td>0.835</td>\n",
       "      <td>0.097</td>\n",
       "      <td>0.4234</td>\n",
       "    </tr>\n",
       "    <tr>\n",
       "      <th>...</th>\n",
       "      <td>...</td>\n",
       "      <td>...</td>\n",
       "      <td>...</td>\n",
       "      <td>...</td>\n",
       "      <td>...</td>\n",
       "      <td>...</td>\n",
       "      <td>...</td>\n",
       "      <td>...</td>\n",
       "      <td>...</td>\n",
       "      <td>...</td>\n",
       "      <td>...</td>\n",
       "      <td>...</td>\n",
       "      <td>...</td>\n",
       "      <td>...</td>\n",
       "      <td>...</td>\n",
       "      <td>...</td>\n",
       "      <td>...</td>\n",
       "      <td>...</td>\n",
       "      <td>...</td>\n",
       "      <td>...</td>\n",
       "      <td>...</td>\n",
       "    </tr>\n",
       "    <tr>\n",
       "      <th>264919</th>\n",
       "      <td>264919</td>\n",
       "      <td>1525195719</td>\n",
       "      <td>5ae82ca3068401528a2ab97a</td>\n",
       "      <td>2055.0</td>\n",
       "      <td>This year was uniquely unoriginal - the four n...</td>\n",
       "      <td>26935618.0</td>\n",
       "      <td>26935618.0</td>\n",
       "      <td>&lt;br/&gt;</td>\n",
       "      <td>userReply</td>\n",
       "      <td>1525195714</td>\n",
       "      <td>...</td>\n",
       "      <td>1525195719</td>\n",
       "      <td>Michael Trenteseau</td>\n",
       "      <td>44062099.0</td>\n",
       "      <td>Atlanta</td>\n",
       "      <td>NaN</td>\n",
       "      <td>NaN</td>\n",
       "      <td>0.000</td>\n",
       "      <td>0.790</td>\n",
       "      <td>0.210</td>\n",
       "      <td>0.9274</td>\n",
       "    </tr>\n",
       "    <tr>\n",
       "      <th>264920</th>\n",
       "      <td>264920</td>\n",
       "      <td>1525196941</td>\n",
       "      <td>5ae82ca3068401528a2ab97a</td>\n",
       "      <td>2055.0</td>\n",
       "      <td>Come From Away, last year...</td>\n",
       "      <td>26935835.0</td>\n",
       "      <td>26935835.0</td>\n",
       "      <td>&lt;br/&gt;</td>\n",
       "      <td>userReply</td>\n",
       "      <td>1525196530</td>\n",
       "      <td>...</td>\n",
       "      <td>1525196941</td>\n",
       "      <td>Mia</td>\n",
       "      <td>64798368.0</td>\n",
       "      <td>Pittsburgh</td>\n",
       "      <td>NaN</td>\n",
       "      <td>NaN</td>\n",
       "      <td>0.000</td>\n",
       "      <td>1.000</td>\n",
       "      <td>0.000</td>\n",
       "      <td>0.0000</td>\n",
       "    </tr>\n",
       "    <tr>\n",
       "      <th>264921</th>\n",
       "      <td>264921</td>\n",
       "      <td>1525208529</td>\n",
       "      <td>5ae82ca3068401528a2ab97a</td>\n",
       "      <td>2055.0</td>\n",
       "      <td>I love this quiet little musical. Exquisite pe...</td>\n",
       "      <td>26938328.0</td>\n",
       "      <td>26938328.0</td>\n",
       "      <td>&lt;br/&gt;</td>\n",
       "      <td>userReply</td>\n",
       "      <td>1525208527</td>\n",
       "      <td>...</td>\n",
       "      <td>1525208529</td>\n",
       "      <td>Mindi Reich-Shapiro</td>\n",
       "      <td>39921274.0</td>\n",
       "      <td>NYC</td>\n",
       "      <td>NaN</td>\n",
       "      <td>NaN</td>\n",
       "      <td>0.000</td>\n",
       "      <td>0.725</td>\n",
       "      <td>0.275</td>\n",
       "      <td>0.9001</td>\n",
       "    </tr>\n",
       "    <tr>\n",
       "      <th>264922</th>\n",
       "      <td>264922</td>\n",
       "      <td>1525217659</td>\n",
       "      <td>5ae82ca3068401528a2ab97a</td>\n",
       "      <td>2055.0</td>\n",
       "      <td>We saw it about 10 days ago.  Agree with your ...</td>\n",
       "      <td>26939746.0</td>\n",
       "      <td>26939746.0</td>\n",
       "      <td>&lt;br/&gt;</td>\n",
       "      <td>userReply</td>\n",
       "      <td>1525217654</td>\n",
       "      <td>...</td>\n",
       "      <td>1525217659</td>\n",
       "      <td>Bob G</td>\n",
       "      <td>52229491.0</td>\n",
       "      <td>St. Louis</td>\n",
       "      <td>NaN</td>\n",
       "      <td>NaN</td>\n",
       "      <td>0.000</td>\n",
       "      <td>0.685</td>\n",
       "      <td>0.315</td>\n",
       "      <td>0.9432</td>\n",
       "    </tr>\n",
       "    <tr>\n",
       "      <th>264923</th>\n",
       "      <td>264923</td>\n",
       "      <td>1525188961</td>\n",
       "      <td>5ae82ca3068401528a2ab97a</td>\n",
       "      <td>2055.0</td>\n",
       "      <td>Spot on! I'm appalled by the Schumer nod!!!!!</td>\n",
       "      <td>26933665.0</td>\n",
       "      <td>26933665.0</td>\n",
       "      <td>&lt;br/&gt;</td>\n",
       "      <td>userReply</td>\n",
       "      <td>1525188226</td>\n",
       "      <td>...</td>\n",
       "      <td>1525188961</td>\n",
       "      <td>person of interest</td>\n",
       "      <td>58779998.0</td>\n",
       "      <td>seattle</td>\n",
       "      <td>NaN</td>\n",
       "      <td>NaN</td>\n",
       "      <td>0.373</td>\n",
       "      <td>0.627</td>\n",
       "      <td>0.000</td>\n",
       "      <td>-0.6331</td>\n",
       "    </tr>\n",
       "  </tbody>\n",
       "</table>\n",
       "<p>264924 rows × 39 columns</p>\n",
       "</div>"
      ],
      "text/plain": [
       "        Unnamed: 0  approveDate                 articleID  articleWordCount  \\\n",
       "0                0   1524594282  5adf6684068401528a2aa69b             781.0   \n",
       "1                1   1524594252  5adf6684068401528a2aa69b             781.0   \n",
       "2                2   1524594250  5adf6684068401528a2aa69b             781.0   \n",
       "3                3   1524593431  5adf6684068401528a2aa69b             781.0   \n",
       "4                4   1524595048  5adf653f068401528a2aa697             656.0   \n",
       "...            ...          ...                       ...               ...   \n",
       "264919      264919   1525195719  5ae82ca3068401528a2ab97a            2055.0   \n",
       "264920      264920   1525196941  5ae82ca3068401528a2ab97a            2055.0   \n",
       "264921      264921   1525208529  5ae82ca3068401528a2ab97a            2055.0   \n",
       "264922      264922   1525217659  5ae82ca3068401528a2ab97a            2055.0   \n",
       "264923      264923   1525188961  5ae82ca3068401528a2ab97a            2055.0   \n",
       "\n",
       "                                              commentBody   commentID  \\\n",
       "0       How could the league possibly refuse this offe...  26853969.0   \n",
       "1       So then the execs can be like \"yeah...we will ...  26853699.0   \n",
       "2       I would not want to play chess against these c...  26853677.0   \n",
       "3       Could the cheerleaders join the Actors' Equity...  26853784.0   \n",
       "4       Seeking conclusions which support preconceived...  26854236.0   \n",
       "...                                                   ...         ...   \n",
       "264919  This year was uniquely unoriginal - the four n...  26935618.0   \n",
       "264920                       Come From Away, last year...  26935835.0   \n",
       "264921  I love this quiet little musical. Exquisite pe...  26938328.0   \n",
       "264922  We saw it about 10 days ago.  Agree with your ...  26939746.0   \n",
       "264923      Spot on! I'm appalled by the Schumer nod!!!!!  26933665.0   \n",
       "\n",
       "        commentSequence commentTitle commentType  createDate  ...  updateDate  \\\n",
       "0            26853969.0        <br/>     comment  1524594011  ...  1524594282   \n",
       "1            26853699.0        <br/>     comment  1524593146  ...  1524594252   \n",
       "2            26853677.0        <br/>     comment  1524593032  ...  1524594250   \n",
       "3            26853784.0        <br/>     comment  1524593426  ...  1524593431   \n",
       "4            26854236.0        <br/>     comment  1524595043  ...  1524595048   \n",
       "...                 ...          ...         ...         ...  ...         ...   \n",
       "264919       26935618.0        <br/>   userReply  1525195714  ...  1525195719   \n",
       "264920       26935835.0        <br/>   userReply  1525196530  ...  1525196941   \n",
       "264921       26938328.0        <br/>   userReply  1525208527  ...  1525208529   \n",
       "264922       26939746.0        <br/>   userReply  1525217654  ...  1525217659   \n",
       "264923       26933665.0        <br/>   userReply  1525188226  ...  1525188961   \n",
       "\n",
       "            userDisplayName      userID            userLocation  userTitle  \\\n",
       "0         Christopher Rillo  46566740.0           San Francisco        NaN   \n",
       "1                Matt Brand  64324866.0  Williamsburg, Brooklyn        NaN   \n",
       "2                    Joseph  78105093.0        Fayetteville, AR        NaN   \n",
       "3                   Stephen  81939618.0             Phoenix, AZ        NaN   \n",
       "4               Paul Zorsky  58642997.0                   Texas        NaN   \n",
       "...                     ...         ...                     ...        ...   \n",
       "264919   Michael Trenteseau  44062099.0                 Atlanta        NaN   \n",
       "264920                  Mia  64798368.0              Pittsburgh        NaN   \n",
       "264921  Mindi Reich-Shapiro  39921274.0                     NYC        NaN   \n",
       "264922                Bob G  52229491.0               St. Louis        NaN   \n",
       "264923   person of interest  58779998.0                 seattle        NaN   \n",
       "\n",
       "       userURL    neg    neu    pos  compound  \n",
       "0          NaN  0.239  0.761  0.000   -0.2960  \n",
       "1          NaN  0.000  0.889  0.111    0.3612  \n",
       "2          NaN  0.241  0.610  0.149   -0.0900  \n",
       "3          NaN  0.034  0.806  0.160    0.6326  \n",
       "4          NaN  0.068  0.835  0.097    0.4234  \n",
       "...        ...    ...    ...    ...       ...  \n",
       "264919     NaN  0.000  0.790  0.210    0.9274  \n",
       "264920     NaN  0.000  1.000  0.000    0.0000  \n",
       "264921     NaN  0.000  0.725  0.275    0.9001  \n",
       "264922     NaN  0.000  0.685  0.315    0.9432  \n",
       "264923     NaN  0.373  0.627  0.000   -0.6331  \n",
       "\n",
       "[264924 rows x 39 columns]"
      ]
     },
     "execution_count": 61,
     "metadata": {},
     "output_type": "execute_result"
    }
   ],
   "source": [
    "c_april_pd[:len(c_april_pd)]"
   ]
  },
  {
   "cell_type": "markdown",
   "metadata": {},
   "source": [
    "#### Printing 5 random comments with the most positive score..\n"
   ]
  },
  {
   "cell_type": "code",
   "execution_count": 17,
   "metadata": {},
   "outputs": [
    {
     "name": "stdout",
     "output_type": "stream",
     "text": [
      "3 random comments with most neutral (zero) sentiment polarity:\n",
      " \n",
      "Actually it's very easy to say. It tipped the election. <br/><br/>Name some other candidates who survived a fictitious 20 month long \"investigation\" campaign against them. <br/><br/>Try to name them. \n",
      "\n",
      "Clinton won the Democratic primaries by a comfortable margin. Are you trying to say that the superdelegates should have overlooked the results of the primaries and cast their votes for Sanders to nominate him for the Democratic nomination?<br/><br/><a href=\"http://fivethirtyeight.com/features/was-the-democratic-primary-a-close-call-or-a-landslide/\" title=\"http://fivethirtyeight.com/features/was-the-democratic-primary-a-close-call-or-a-landslide/\" target=\"_blank\">http://fivethirtyeight.com/features/was-the-democratic-primary-a-close-c...</a>\n",
      "\n",
      "What we model to children demonstrates to them, in a tangible way, how much or how little they are valued. <br/><br/>I taught night classes for a local university that were held in an IS in East New York. The hallways were painted a murky color that was not tan, was not brown... but worse, doors on the stalls of the bathrooms had been removed, and the bathrooms smelled awful, were filthy, and not entirely functional. I was horrified. How could we expect children to act with respect, let alone focus on their studies, when the physical environment provided them proved that they were not? And the books were students, teachers, and parents cleaned the school, repainted and ...computers? hah!<br/><br/>Within a few years the school was transformed by paint and hard work into a more cheerful and welcoming place, bright colors and displays of artwork and classwork of the students-- by the teachers, students, and parents. <br/><br/>How was it that the situation was allowed to devolve in the first place though?  I don't want to hear a word of it being a \"bad neighborhood\". Students growing up in the most challenging situations deserve and need the best support possible if they are to attain their goals. Self respect is undermined when kids' are expected to endure conditions adults would find intolerable.\n",
      "\n"
     ]
    }
   ],
   "source": [
    "print(\"3 random comments with most positive (1) sentiment polarity:\\n \")\n",
    "cL = c_april_pd.loc[c_april_pd.Sentiment==1, ['commentBody']].sample(3).values\n",
    "for c in cL:\n",
    "    print(c[0])\n",
    "    print()"
   ]
  },
  {
   "cell_type": "markdown",
   "metadata": {},
   "source": [
    "#### Printing 5 random comments with the most  neutral score..\n"
   ]
  },
  {
   "cell_type": "code",
   "execution_count": 18,
   "metadata": {},
   "outputs": [
    {
     "name": "stdout",
     "output_type": "stream",
     "text": [
      "3 random comments with most neutral (zero) sentiment polarity:\n",
      " \n",
      "Um, individuality in the queer community is right here, in this article!\n",
      "\n",
      "Close all Russian Embassy compounds everywhere.  Erase their memories by letting the homeless occupy the space and homestead.  Then, abscond with all Russian money and assets everywhere by freezing the accounts and overturning deeds and raiding their refrigerators. Then kick out all Russian visitors and students from everywhere. Then, cancel all Green Card holders and send them packing. Then raid every store selling Russian Caviars and fumigate the premises with Raid Insect spray and flood the shop with formaldehydes.  Get the wildlife service to roundup all Russian Bears and exile them to the zoo on Elba. Then call Putin and invite him to overnight in the Lincoln Bedroom to discuss vodka distribution.  \n",
      "\n",
      "As the right shifts further to the right and the left moves further to the left, we are not getting any closer to the middle.  Polarization escalates and common ground shrinks.\n",
      "\n"
     ]
    }
   ],
   "source": [
    "print(\"3 random comments with most neutral (zero) sentiment polarity:\\n \")\n",
    "cL = c_april_pd.loc[c_april_pd.Sentiment==0, ['commentBody']].sample(3).values\n",
    "for c in cL:\n",
    "    print(c[0])\n",
    "    print()"
   ]
  },
  {
   "cell_type": "markdown",
   "metadata": {},
   "source": [
    "#### Printing 5 random comments with the highest negative score..\n"
   ]
  },
  {
   "cell_type": "code",
   "execution_count": 19,
   "metadata": {},
   "outputs": [
    {
     "name": "stdout",
     "output_type": "stream",
     "text": [
      "3 random comments with most neutral (zero) sentiment polarity:\n",
      " \n",
      "There are a lot of stupid people in the world with ridiculous ideas. Maybe they believe those ideas, or maybe they do not. But why give them a megaphone by quoting them? Why assume that they are representative of any significant portion of the population?<br/><br/>Maybe your book does this, but what are you asking for? Confessions like those you quote from white people who now acknowledge their inner racist? To what end? What concrete action items do you propose? Arguing over whether someone is inherently a racist or a beneficiary of a racist system is a useless exercise. Neither side will ever prove the merit of its position.<br/><br/>Focus on what matters. We may be able to agree on things that will make lives better. But you will never convince me that I am a racist. Just like I am sure that I could never do the same to you. So please stop trying.\n",
      "\n",
      "This will ruin all, oh so civilized, Western nations: neglect of the education system. It is a general scandal that stinks to heaven ( tough German description).<br/><br/>As long as Western States think it a better idea to spend their money on the military, there will be no change.\n",
      "\n",
      "Perhaps Mr. Comey forgot the reason a vile, soulless con man like Trump is president?<br/><br/>Mr. Comey.\n",
      "\n"
     ]
    }
   ],
   "source": [
    "print(\"3 random comments with most negative (-1) sentiment polarity:\\n \")\n",
    "cL = c_april_pd.loc[c_april_pd.Sentiment==-1, ['commentBody']].sample(3).values\n",
    "for c in cL:\n",
    "    print(c[0])\n",
    "    print()"
   ]
  },
  {
   "cell_type": "markdown",
   "metadata": {},
   "source": [
    "#### Pie plot for categorizing comments"
   ]
  },
  {
   "cell_type": "code",
   "execution_count": 22,
   "metadata": {},
   "outputs": [
    {
     "data": {
      "text/plain": [
       "<matplotlib.axes._subplots.AxesSubplot at 0x7f95e7c48cd0>"
      ]
     },
     "execution_count": 22,
     "metadata": {},
     "output_type": "execute_result"
    },
    {
     "data": {
      "image/png": "[encoded data removed]",
      "text/plain": [
       "<Figure size 1296x576 with 1 Axes>"
      ]
     },
     "metadata": {},
     "output_type": "display_data"
    }
   ],
   "source": [
    "c_april_pd.Sentiment.value_counts().plot(kind='pie', autopct='%2.0f%%', colors=[\"Green\", \"red\", \"yellow\"], labels=[\"Positive\", \"Negative\", \"Neutral\"])"
   ]
  },
  {
   "cell_type": "markdown",
   "metadata": {},
   "source": [
    "#### Distribution plot of sentiment polarity of comments"
   ]
  },
  {
   "cell_type": "code",
   "execution_count": 57,
   "metadata": {},
   "outputs": [
    {
     "data": {
      "image/png": "[encoded data removed]",
      "text/plain": [
       "<Figure size 1080x360 with 1 Axes>"
      ]
     },
     "metadata": {
      "needs_background": "light"
     },
     "output_type": "display_data"
    }
   ],
   "source": [
    "fig = plt.figure(figsize=(15,5))\n",
    "ax = fig.add_subplot(111)\n",
    "sns.distplot(c_april_pd['compound'], bins=15, ax=ax)\n",
    "plt.show()"
   ]
  },
  {
   "cell_type": "markdown",
   "metadata": {},
   "source": [
    "#### Inference : In this plot, we see that There is balance of negative and positive comments in the dataset unlike in TexBlob where the neutral comments were dominent."
   ]
  }
 ],
 "metadata": {
  "kernelspec": {
   "display_name": "Python 3",
   "language": "python",
   "name": "python3"
  },
  "language_info": {
   "codemirror_mode": {
    "name": "ipython",
    "version": 3
   },
   "file_extension": ".py",
   "mimetype": "text/x-python",
   "name": "python",
   "nbconvert_exporter": "python",
   "pygments_lexer": "ipython3",
   "version": "3.7.4"
  }
 },
 "nbformat": 4,
 "nbformat_minor": 2
}
